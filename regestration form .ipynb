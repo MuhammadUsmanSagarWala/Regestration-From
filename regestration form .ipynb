{
 "cells": [
  {
   "cell_type": "code",
   "execution_count": 28,
   "id": "a8208c43",
   "metadata": {},
   "outputs": [],
   "source": [
    "from tkinter import*\n",
    "root = Tk()\n",
    "root.geometry('900x300')\n",
    "root.title(\"Registration Form\")\n",
    "\n",
    "def submit():\n",
    "    print(\"Succesfully done\")\n",
    "\n",
    "label_0 = Label(root, text=\"Registration form\",width=20,font=(\"bold\", 20))\n",
    "label_0.grid(row=1,column=1)\n",
    "\n",
    "\n",
    "label_1 = Label(root, text=\"FullName\",width=20,font=(\"bold\", 10))\n",
    "label_1.grid(row=2,column=1)\n",
    "\n",
    "entry_1 = Entry(root)\n",
    "entry_1.grid(row=2,column=2)\n",
    "\n",
    "label_2 = Label(root, text=\"Email\",width=20,font=(\"bold\", 10))\n",
    "label_2.grid(row=3,column=1)\n",
    "\n",
    "entry_2 = Entry(root)\n",
    "entry_2.grid(row=3,column=2)\n",
    "\n",
    "label_3 = Label(root, text=\"Gender\",width=20,font=(\"bold\", 10))\n",
    "label_3.grid(row=4,column=1)\n",
    "var = IntVar()\n",
    "Radiobutton(root, text=\"Male\",padx = 5, variable=var, value=1).grid(row=4,column=2)\n",
    "Radiobutton(root, text=\"Female\",padx = 20, variable=var, value=2).grid(row=4,column=3)\n",
    "\n",
    "label_5 = Label(root, text=\"Country\",width=20,font=(\"bold\",10))\n",
    "label_5.grid(row=5,column=1)\n",
    "\n",
    "clicked  = StringVar()\n",
    "clicked.set(\"Select your Country\")\n",
    "drop = OptionMenu(root, clicked, \"Pakistan\",\"England\",\"Turkey\",\"Uganda\",\"Iraq\",\"Bangladesh\",\"Other\")\n",
    "drop.grid(row=5,column=2)\n",
    "\n",
    "label_4 = Label(root, text=\"Programming:\",width=20,font=(\"bold\", 10))\n",
    "label_4.grid(row=6,column=1)\n",
    "\n",
    "var1=IntVar()\n",
    "check1=Checkbutton(root,text=\"Java\",variable=var1)\n",
    "check1.deselect()\n",
    "check1.grid(row=6, column = 2)\n",
    "var2=IntVar()\n",
    "check2=Checkbutton(root,text=\"Python\",variable=var2)\n",
    "check2.deselect()\n",
    "check2.grid(row=6, column = 3)\n",
    "\n",
    "Button(root, text='Submit',command=submit,width=20,bg='brown',fg='white').grid(row=8,column=1)\n",
    "\n",
    "root.mainloop()"
   ]
  },
  {
   "cell_type": "code",
   "execution_count": null,
   "id": "526dffa1",
   "metadata": {},
   "outputs": [],
   "source": []
  }
 ],
 "metadata": {
  "kernelspec": {
   "display_name": "Python 3 (ipykernel)",
   "language": "python",
   "name": "python3"
  },
  "language_info": {
   "codemirror_mode": {
    "name": "ipython",
    "version": 3
   },
   "file_extension": ".py",
   "mimetype": "text/x-python",
   "name": "python",
   "nbconvert_exporter": "python",
   "pygments_lexer": "ipython3",
   "version": "3.8.7"
  }
 },
 "nbformat": 4,
 "nbformat_minor": 5
}
